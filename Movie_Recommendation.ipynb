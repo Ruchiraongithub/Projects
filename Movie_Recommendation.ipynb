{
  "nbformat": 4,
  "nbformat_minor": 0,
  "metadata": {
    "colab": {
      "private_outputs": true,
      "provenance": [],
      "authorship_tag": "ABX9TyOhMo9BSbLXN/pI6P2au3Ye",
      "include_colab_link": true
    },
    "kernelspec": {
      "name": "python3",
      "display_name": "Python 3"
    },
    "language_info": {
      "name": "python"
    }
  },
  "cells": [
    {
      "cell_type": "markdown",
      "metadata": {
        "id": "view-in-github",
        "colab_type": "text"
      },
      "source": [
        "<a href=\"https://colab.research.google.com/github/Ruchiraongithub/Projects/blob/main/Movie_Recommendation.ipynb\" target=\"_parent\"><img src=\"https://colab.research.google.com/assets/colab-badge.svg\" alt=\"Open In Colab\"/></a>"
      ]
    },
    {
      "cell_type": "code",
      "execution_count": null,
      "metadata": {
        "id": "1b7H4IQ6IBQn"
      },
      "outputs": [],
      "source": [
        "from sklearn.metrics.pairwise import cosine_similarity\n",
        "vec1 = [1,1,0,1,1]\n",
        "vec2 = [0,1,0,1,1]\n",
        "print(cosine_similarity([vec1, vec2]))\n"
      ]
    },
    {
      "cell_type": "code",
      "source": [
        "import numpy as np\n",
        "import pandas as pd\n",
        "import difflib\n",
        "from sklearn.feature_extraction.text import TfidfVectorizer\n",
        "# TfidfVectorizer - This is used to convert text data into numerical values\n",
        "from sklearn.metrics.pairwise import cosine_similarity\n",
        "import os\n"
      ],
      "metadata": {
        "id": "wqFbVjXwIuoi"
      },
      "execution_count": null,
      "outputs": []
    },
    {
      "cell_type": "code",
      "source": [
        "display (os.getcwd())"
      ],
      "metadata": {
        "id": "rGUNXWFFI-oS"
      },
      "execution_count": null,
      "outputs": []
    },
    {
      "cell_type": "code",
      "source": [
        "os.chdir('//content//')\n",
        "movies_data =pd.read_csv('/content/movies.csv')\n",
        "movies_data.head()\n"
      ],
      "metadata": {
        "id": "Hvte0Q6zJBsD"
      },
      "execution_count": null,
      "outputs": []
    },
    {
      "cell_type": "code",
      "source": [
        "display (movies_data.shape)"
      ],
      "metadata": {
        "id": "5zxyQjiGJDsb"
      },
      "execution_count": null,
      "outputs": []
    },
    {
      "cell_type": "code",
      "source": [
        "selected_features = ['genres','keywords','tagline','cast','director']\n",
        "print(selected_features)\n"
      ],
      "metadata": {
        "id": "isuwWGNAJKe0"
      },
      "execution_count": null,
      "outputs": []
    },
    {
      "cell_type": "code",
      "source": [
        "display (movies_data.info())"
      ],
      "metadata": {
        "id": "pyHxkRf8JNvi"
      },
      "execution_count": null,
      "outputs": []
    },
    {
      "cell_type": "code",
      "source": [
        "display (movies_data.isna().sum())"
      ],
      "metadata": {
        "id": "h0MZO4MgJRMY"
      },
      "execution_count": null,
      "outputs": []
    },
    {
      "cell_type": "code",
      "source": [
        "display (movies_data[selected_features].head())"
      ],
      "metadata": {
        "id": "TtarRMN5JUME"
      },
      "execution_count": null,
      "outputs": []
    },
    {
      "cell_type": "code",
      "source": [
        "display (movies_data[selected_features].isna().sum())"
      ],
      "metadata": {
        "id": "oCKIpzb-JY8A"
      },
      "execution_count": null,
      "outputs": []
    },
    {
      "cell_type": "code",
      "source": [
        "for feature in selected_features:\n",
        "  movies_data[feature] = movies_data[feature].fillna('')\n",
        "display (movies_data.head())\n"
      ],
      "metadata": {
        "id": "yzwMRKkrJcQ6"
      },
      "execution_count": null,
      "outputs": []
    },
    {
      "cell_type": "code",
      "source": [
        "combined_features = movies_data['genres']+' '+movies_data['keywords']+' '+movies_data['tagline']+' '+movies_data['cast']+' '+movies_data['director']\n",
        "display (combined_features)\n"
      ],
      "metadata": {
        "id": "Zh7Y4FuCJfqP"
      },
      "execution_count": null,
      "outputs": []
    },
    {
      "cell_type": "code",
      "source": [
        "vectorizer = TfidfVectorizer()\n",
        "feature_vectors = vectorizer.fit_transform(combined_features)\n",
        "display (feature_vectors.shape)\n",
        "print (feature_vectors)\n"
      ],
      "metadata": {
        "id": "9rlB9bUJJjLN"
      },
      "execution_count": null,
      "outputs": []
    },
    {
      "cell_type": "code",
      "source": [
        "similarity = cosine_similarity(feature_vectors)\n",
        "print  (similarity )\n"
      ],
      "metadata": {
        "id": "coOESQNFJmQ6"
      },
      "execution_count": null,
      "outputs": []
    },
    {
      "cell_type": "code",
      "source": [
        "display(similarity.shape)"
      ],
      "metadata": {
        "id": "HLMBpI4WJpS4"
      },
      "execution_count": null,
      "outputs": []
    },
    {
      "cell_type": "code",
      "source": [
        "movie_name = input(' Enter your favourite movie name : ')"
      ],
      "metadata": {
        "id": "KVlZgimUPp71"
      },
      "execution_count": null,
      "outputs": []
    },
    {
      "cell_type": "code",
      "source": [
        "list_of_all_titles = movies_data['title'].tolist()\n",
        "print(list_of_all_titles)\n"
      ],
      "metadata": {
        "id": "rrapIpU3JvpV"
      },
      "execution_count": null,
      "outputs": []
    },
    {
      "cell_type": "code",
      "source": [
        "len(list_of_all_titles)"
      ],
      "metadata": {
        "id": "zdVZrGsyJygr"
      },
      "execution_count": null,
      "outputs": []
    },
    {
      "cell_type": "code",
      "source": [
        "find_close_match = difflib.get_close_matches(movie_name, list_of_all_titles)\n",
        "print(find_close_match)\n"
      ],
      "metadata": {
        "id": "WH8BNzJHJ1Fo"
      },
      "execution_count": null,
      "outputs": []
    },
    {
      "cell_type": "code",
      "source": [
        "close_match = find_close_match[0]\n",
        "print(close_match)\n"
      ],
      "metadata": {
        "id": "ip_4aAmCJ4E5"
      },
      "execution_count": null,
      "outputs": []
    },
    {
      "cell_type": "code",
      "source": [
        "index_of_the_movie = movies_data[movies_data.title == close_match]['index'].values[0]\n",
        "print(index_of_the_movie)\n"
      ],
      "metadata": {
        "id": "s-PjcqffJ6s5"
      },
      "execution_count": null,
      "outputs": []
    },
    {
      "cell_type": "code",
      "source": [
        "similarity_score = list(enumerate(similarity[index_of_the_movie]))\n",
        "print(similarity_score)\n"
      ],
      "metadata": {
        "id": "SztHIkYkJ-Nf"
      },
      "execution_count": null,
      "outputs": []
    },
    {
      "cell_type": "code",
      "source": [
        "len(similarity_score)"
      ],
      "metadata": {
        "id": "D94dH2zTKBIc"
      },
      "execution_count": null,
      "outputs": []
    },
    {
      "cell_type": "code",
      "source": [
        "sorted_similar_movies = sorted(similarity_score, key = lambda x:x[1], reverse = True)\n",
        "print(sorted_similar_movies)\n"
      ],
      "metadata": {
        "id": "I8Dpc4P-KEQV"
      },
      "execution_count": null,
      "outputs": []
    },
    {
      "cell_type": "code",
      "source": [
        "movie_name = input(' Enter your favourite movie name : ')\n",
        "\n",
        "list_of_all_titles = movies_data['title'].tolist()\n",
        "\n",
        "find_close_match = difflib.get_close_matches(movie_name, list_of_all_titles)\n",
        "\n",
        "close_match = find_close_match[0]\n",
        "\n",
        "index_of_the_movie = movies_data[movies_data.title == close_match]['index'].values[0]\n",
        "\n",
        "similarity_score = list(enumerate(similarity[index_of_the_movie]))\n",
        "\n",
        "sorted_similar_movies = sorted(similarity_score, key = lambda x:x[1], reverse = True)\n",
        "\n",
        "print('Movies suggested for you : \\n')\n",
        "\n",
        "i = 1\n",
        "\n",
        "for movie in sorted_similar_movies:\n",
        "  index = movie[0]\n",
        "  title_from_index = movies_data[movies_data.index==index]['title'].values[0]\n",
        "  if (i<30):\n",
        "    print(i, '.',title_from_index)\n",
        "    i+=1\n"
      ],
      "metadata": {
        "id": "AuHPeKlhKMOV"
      },
      "execution_count": null,
      "outputs": []
    }
  ]
}